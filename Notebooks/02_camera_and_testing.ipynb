{
 "cells": [
  {
   "cell_type": "markdown",
   "metadata": {},
   "source": [
    "### Libraries"
   ]
  },
  {
   "cell_type": "code",
   "execution_count": null,
   "metadata": {
    "id": "TyQmanrmZUZ6"
   },
   "outputs": [],
   "source": [
    "!pip install mediapipe"
   ]
  },
  {
   "cell_type": "code",
   "execution_count": 3,
   "metadata": {
    "id": "ArlumyK4Z2sh"
   },
   "outputs": [],
   "source": [
    "import numpy as np\n",
    "import pandas as pd\n",
    "import cv2\n",
    "import mediapipe as mp\n",
    "import os\n",
    "import glob\n",
    "import csv\n",
    "import scipy.io as sio\n",
    "from math import sin, cos\n",
    "import warnings\n",
    "warnings.filterwarnings('ignore')\n",
    "#from google.colab.patches import cv2_imshow"
   ]
  },
  {
   "cell_type": "code",
   "execution_count": 4,
   "metadata": {
    "id": "vPr0znCcZ4NL"
   },
   "outputs": [],
   "source": [
    "import numpy as np\n",
    "import pandas as pd\n",
    "import pickle\n",
    "\n",
    "from sklearn.model_selection import train_test_split\n",
    "from sklearn.preprocessing import StandardScaler\n",
    "from sklearn.decomposition import PCA\n",
    "from sklearn.pipeline import make_pipeline\n",
    "from sklearn.svm import SVR\n",
    "from sklearn.ensemble import RandomForestRegressor\n",
    "from sklearn.ensemble import GradientBoostingRegressor\n",
    "#from xgboost import XGBRegressor\n",
    "from sklearn.metrics import mean_squared_error, r2_score\n",
    "\n",
    "import warnings\n",
    "warnings.filterwarnings('ignore')\n",
    "#from google.colab.patches import cv2_imshow"
   ]
  },
  {
   "cell_type": "code",
   "execution_count": 5,
   "metadata": {
    "colab": {
     "base_uri": "https://localhost:8080/"
    },
    "id": "4Rk9VZMiZ-ab",
    "outputId": "444b91d4-2cb9-4da0-cc11-5a3a4ece23d4"
   },
   "outputs": [
    {
     "name": "stdout",
     "output_type": "stream",
     "text": [
      "Mounted at /content/drive\n"
     ]
    }
   ],
   "source": [
    "#mount drive\n",
    "from google.colab import drive\n",
    "drive.mount('/content/drive')"
   ]
  },
  {
   "cell_type": "markdown",
   "metadata": {},
   "source": [
    "### Models Retrieval"
   ]
  },
  {
   "cell_type": "code",
   "execution_count": 5,
   "metadata": {
    "id": "ueBHK6v3ZsHy"
   },
   "outputs": [],
   "source": [
    "with open('final_pitch_mdl.pkl', 'rb') as f:\n",
    "  mdl_pitch = pickle.load(f)\n",
    "\n",
    "with open('final_yaw_mdl.pkl', 'rb') as f:\n",
    "  mdl_yaw= pickle.load(f)\n",
    "\n",
    "with open('final_roll_mdl.pkl', 'rb') as f:\n",
    "  mdl_roll = pickle.load(f)"
   ]
  },
  {
   "cell_type": "markdown",
   "metadata": {},
   "source": [
    "### Live Testing with OpenCV"
   ]
  },
  {
   "cell_type": "code",
   "execution_count": 6,
   "metadata": {
    "id": "DeVpUEGrZsMj"
   },
   "outputs": [],
   "source": [
    "mp_face_mesh = mp.solutions.face_mesh"
   ]
  },
  {
   "cell_type": "code",
   "execution_count": 32,
   "metadata": {},
   "outputs": [],
   "source": [
    "#drawing function\n",
    "def draw_axis(image, pitch,yaw,roll, tdx=None, tdy=None, size = 100):\n",
    "\n",
    "    yaw = -yaw\n",
    "\n",
    "    # X-Axis pointing to right. drawn in red\n",
    "    x1 = size * (cos(yaw) * cos(roll)) + tdx\n",
    "    y1 = size * (cos(pitch) * sin(roll) + cos(roll) * sin(pitch) * sin(yaw)) + tdy\n",
    "\n",
    "    # Y-Axis | drawn in green\n",
    "    x2 = size * (-cos(yaw) * sin(roll)) + tdx\n",
    "    y2 = size * (cos(pitch) * cos(roll) - sin(pitch) * sin(yaw) * sin(roll)) + tdy\n",
    "\n",
    "    # Z-Axis (out of the screen) drawn in blue\n",
    "    x3 = size * (sin(yaw)) + tdx\n",
    "    y3 = size * (-cos(yaw) * sin(pitch)) + tdy\n",
    "\n",
    "    cv2.line(image, (int(tdx), int(tdy)), (int(x1),int(y1)),(255,0,0),3)\n",
    "    cv2.line(image, (int(tdx), int(tdy)), (int(x2),int(y2)),(0,255,0),3)\n",
    "    cv2.line(image, (int(tdx), int(tdy)), (int(x3),int(y3)),(0,0,255),3)"
   ]
  },
  {
   "cell_type": "code",
   "execution_count": 38,
   "metadata": {
    "id": "bzKeFdZ4ds9A"
   },
   "outputs": [],
   "source": [
    "cap = cv2.VideoCapture(0)\n",
    "fourcc = cv2.VideoWriter_fourcc(*'MP4V')\n",
    "videoWriter = cv2.VideoWriter('head_pose_test_video.mp4', fourcc, 30.0, (640,480))\n",
    "\n",
    "with mp_face_mesh.FaceMesh(static_image_mode=True) as face_mesh:\n",
    "\n",
    "  while cap.isOpened():\n",
    "    #read image\n",
    "    ret, frame = cap.read()\n",
    "    image = cv2.cvtColor(frame, cv2.COLOR_BGR2RGB)\n",
    "    image.flags.writeable = False\n",
    "\n",
    "    #get image shape\n",
    "    shape = image.shape\n",
    "    #convert image from BGR to RGB and process\n",
    "    results = face_mesh.process(cv2.cvtColor(image, cv2.COLOR_BGR2RGB))\n",
    "\n",
    "    if results.multi_face_landmarks != None:\n",
    "      #loop over the faces\n",
    "      for face in results.multi_face_landmarks:\n",
    "        \n",
    "        #choose the chosen points to normalize\n",
    "        #nose point 4\n",
    "        nose_pt_x, nose_pt_y = face.landmark[4].x, face.landmark[4].y\n",
    "        #forehead point 10\n",
    "        forehead_pt_x, forehead_pt_y = face.landmark[10].x, face.landmark[10].y\n",
    "\n",
    "        #un-normalize points to get their location\n",
    "        nose_pt_x, nose_pt_y = int(nose_pt_x * shape[1]), int(nose_pt_y * shape[0])\n",
    "        forehead_pt_x, forehead_pt_y = int(forehead_pt_x * shape[1]), int(forehead_pt_y * shape[0])\n",
    "\n",
    "        #calculate the distance\n",
    "        nose_pt = np.array([nose_pt_x, nose_pt_y])\n",
    "        forehead_pt = np.array([forehead_pt_x, forehead_pt_y])\n",
    "        distance = np.linalg.norm(nose_pt - forehead_pt)\n",
    "\n",
    "        face_row = list(np.array([[((lm.x * shape[1]) - nose_pt_x)/distance, ((lm.y * shape[0]) - nose_pt_y)/distance] for lm in face.landmark]).flatten())\n",
    "\n",
    "        arr_row = np.array((face_row)).reshape(1, -1)\n",
    "\n",
    "        pitch = mdl_pitch.predict(arr_row)\n",
    "        yaw = mdl_yaw.predict(arr_row)\n",
    "        roll = mdl_roll.predict(arr_row)\n",
    "\n",
    "        draw_axis(image, pitch, yaw, roll, tdx=nose_pt_x, tdy=nose_pt_y, size = 100)\n",
    "\n",
    "        image = cv2.flip(image,1)\n",
    "        image = cv2.cvtColor(image, cv2.COLOR_BGR2RGB)\n",
    "        \n",
    "        cv2.putText(image, f'Pitch:{pitch}', (20,90), cv2.FONT_HERSHEY_SIMPLEX, 0.5, (0, 255, 0), 1, cv2.LINE_AA)\n",
    "        cv2.putText(image, f'Yaw:{yaw}', (20,120), cv2.FONT_HERSHEY_SIMPLEX, 0.5, (0, 0, 255), 1, cv2.LINE_AA)\n",
    "        cv2.putText(image, f'Roll:{roll}', (20,150), cv2.FONT_HERSHEY_SIMPLEX, 0.5, (255, 0, 0), 1, cv2.LINE_AA)\n",
    "\n",
    "        videoWriter.write(image)\n",
    "\n",
    "        cv2.imshow('Raw Webcam Feed', image)\n",
    "      \n",
    "      if cv2.waitKey(1) & 0xFF == ord('q'):\n",
    "        break\n",
    "videoWriter.release()\n",
    "cap.release()\n",
    "cv2.destroyAllWindows()"
   ]
  },
  {
   "cell_type": "code",
   "execution_count": null,
   "metadata": {},
   "outputs": [],
   "source": []
  }
 ],
 "metadata": {
  "colab": {
   "provenance": []
  },
  "kernelspec": {
   "display_name": "Python 3",
   "language": "python",
   "name": "python3"
  },
  "language_info": {
   "codemirror_mode": {
    "name": "ipython",
    "version": 3
   },
   "file_extension": ".py",
   "mimetype": "text/x-python",
   "name": "python",
   "nbconvert_exporter": "python",
   "pygments_lexer": "ipython3",
   "version": "3.7.6"
  }
 },
 "nbformat": 4,
 "nbformat_minor": 1
}
