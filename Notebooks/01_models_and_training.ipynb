{
 "cells": [
  {
   "cell_type": "markdown",
   "metadata": {},
   "source": [
    "### Libraries"
   ]
  },
  {
   "cell_type": "code",
   "execution_count": 1,
   "metadata": {
    "id": "xe3yyLYiK2Wb"
   },
   "outputs": [],
   "source": [
    "import numpy as np\n",
    "import pandas as pd\n",
    "import pickle\n",
    "\n",
    "from sklearn.model_selection import train_test_split\n",
    "from sklearn.preprocessing import StandardScaler\n",
    "from sklearn.decomposition import PCA\n",
    "from sklearn.pipeline import make_pipeline\n",
    "from sklearn.svm import SVR\n",
    "from sklearn.ensemble import RandomForestRegressor\n",
    "from sklearn.ensemble import GradientBoostingRegressor\n",
    "from xgboost import XGBRegressor\n",
    "from sklearn.metrics import mean_squared_error, r2_score\n",
    "\n",
    "import warnings\n",
    "warnings.filterwarnings('ignore')\n",
    "from google.colab.patches import cv2_imshow"
   ]
  },
  {
   "cell_type": "code",
   "execution_count": 2,
   "metadata": {
    "colab": {
     "base_uri": "https://localhost:8080/"
    },
    "id": "_HkbziNZLVco",
    "outputId": "27fface0-c0b4-4506-ef61-d04b33236306"
   },
   "outputs": [
    {
     "name": "stdout",
     "output_type": "stream",
     "text": [
      "Mounted at /content/drive\n"
     ]
    }
   ],
   "source": [
    "#mount drive\n",
    "from google.colab import drive\n",
    "drive.mount('/content/drive')"
   ]
  },
  {
   "cell_type": "markdown",
   "metadata": {},
   "source": [
    "### Data Splitting"
   ]
  },
  {
   "cell_type": "code",
   "execution_count": 3,
   "metadata": {
    "colab": {
     "base_uri": "https://localhost:8080/",
     "height": 299
    },
    "id": "9A-QNDEhLGot",
    "outputId": "aa4fdb08-e74f-420c-af96-581444088ed4"
   },
   "outputs": [
    {
     "data": {
      "text/html": [
       "\n",
       "  <div id=\"df-e37b01e5-477c-434b-9ae9-b41d3e019475\">\n",
       "    <div class=\"colab-df-container\">\n",
       "      <div>\n",
       "<style scoped>\n",
       "    .dataframe tbody tr th:only-of-type {\n",
       "        vertical-align: middle;\n",
       "    }\n",
       "\n",
       "    .dataframe tbody tr th {\n",
       "        vertical-align: top;\n",
       "    }\n",
       "\n",
       "    .dataframe thead th {\n",
       "        text-align: right;\n",
       "    }\n",
       "</style>\n",
       "<table border=\"1\" class=\"dataframe\">\n",
       "  <thead>\n",
       "    <tr style=\"text-align: right;\">\n",
       "      <th></th>\n",
       "      <th>x1</th>\n",
       "      <th>y1</th>\n",
       "      <th>x2</th>\n",
       "      <th>y2</th>\n",
       "      <th>x3</th>\n",
       "      <th>y3</th>\n",
       "      <th>x4</th>\n",
       "      <th>y4</th>\n",
       "      <th>x5</th>\n",
       "      <th>y5</th>\n",
       "      <th>...</th>\n",
       "      <th>y465</th>\n",
       "      <th>x466</th>\n",
       "      <th>y466</th>\n",
       "      <th>x467</th>\n",
       "      <th>y467</th>\n",
       "      <th>x468</th>\n",
       "      <th>y468</th>\n",
       "      <th>pitch</th>\n",
       "      <th>yaw</th>\n",
       "      <th>roll</th>\n",
       "    </tr>\n",
       "  </thead>\n",
       "  <tbody>\n",
       "    <tr>\n",
       "      <th>0</th>\n",
       "      <td>0.067030</td>\n",
       "      <td>0.328205</td>\n",
       "      <td>0.000895</td>\n",
       "      <td>0.084330</td>\n",
       "      <td>0.109037</td>\n",
       "      <td>0.177909</td>\n",
       "      <td>0.093921</td>\n",
       "      <td>-0.149767</td>\n",
       "      <td>0.005139</td>\n",
       "      <td>0.008122</td>\n",
       "      <td>...</td>\n",
       "      <td>-0.260575</td>\n",
       "      <td>0.411546</td>\n",
       "      <td>-0.252619</td>\n",
       "      <td>0.844953</td>\n",
       "      <td>-0.231329</td>\n",
       "      <td>0.897006</td>\n",
       "      <td>-0.255406</td>\n",
       "      <td>0.107997</td>\n",
       "      <td>0.837121</td>\n",
       "      <td>0.249012</td>\n",
       "    </tr>\n",
       "    <tr>\n",
       "      <th>1</th>\n",
       "      <td>0.009322</td>\n",
       "      <td>0.595813</td>\n",
       "      <td>0.015251</td>\n",
       "      <td>0.118809</td>\n",
       "      <td>-0.005072</td>\n",
       "      <td>0.359897</td>\n",
       "      <td>-0.124509</td>\n",
       "      <td>-0.136488</td>\n",
       "      <td>0.012932</td>\n",
       "      <td>0.002051</td>\n",
       "      <td>...</td>\n",
       "      <td>-0.169538</td>\n",
       "      <td>0.129904</td>\n",
       "      <td>-0.184685</td>\n",
       "      <td>0.684021</td>\n",
       "      <td>-0.134949</td>\n",
       "      <td>0.750501</td>\n",
       "      <td>-0.193360</td>\n",
       "      <td>0.404001</td>\n",
       "      <td>-0.131908</td>\n",
       "      <td>-0.084306</td>\n",
       "    </tr>\n",
       "    <tr>\n",
       "      <th>2</th>\n",
       "      <td>0.123301</td>\n",
       "      <td>0.333559</td>\n",
       "      <td>0.013915</td>\n",
       "      <td>0.078694</td>\n",
       "      <td>0.166921</td>\n",
       "      <td>0.180381</td>\n",
       "      <td>0.103639</td>\n",
       "      <td>-0.144438</td>\n",
       "      <td>0.007269</td>\n",
       "      <td>0.003677</td>\n",
       "      <td>...</td>\n",
       "      <td>-0.286893</td>\n",
       "      <td>0.417817</td>\n",
       "      <td>-0.275312</td>\n",
       "      <td>0.820107</td>\n",
       "      <td>-0.311576</td>\n",
       "      <td>0.875300</td>\n",
       "      <td>-0.340237</td>\n",
       "      <td>0.106887</td>\n",
       "      <td>0.921113</td>\n",
       "      <td>0.128691</td>\n",
       "    </tr>\n",
       "    <tr>\n",
       "      <th>3</th>\n",
       "      <td>-0.076576</td>\n",
       "      <td>0.345102</td>\n",
       "      <td>0.002309</td>\n",
       "      <td>0.086475</td>\n",
       "      <td>-0.073506</td>\n",
       "      <td>0.175926</td>\n",
       "      <td>-0.114812</td>\n",
       "      <td>-0.158177</td>\n",
       "      <td>0.008806</td>\n",
       "      <td>0.005363</td>\n",
       "      <td>...</td>\n",
       "      <td>-0.293584</td>\n",
       "      <td>-0.033024</td>\n",
       "      <td>-0.286440</td>\n",
       "      <td>0.294092</td>\n",
       "      <td>-0.308274</td>\n",
       "      <td>0.332659</td>\n",
       "      <td>-0.342919</td>\n",
       "      <td>-0.067951</td>\n",
       "      <td>-0.425775</td>\n",
       "      <td>0.023097</td>\n",
       "    </tr>\n",
       "    <tr>\n",
       "      <th>4</th>\n",
       "      <td>0.123781</td>\n",
       "      <td>0.232474</td>\n",
       "      <td>0.021969</td>\n",
       "      <td>0.060497</td>\n",
       "      <td>0.104812</td>\n",
       "      <td>0.085345</td>\n",
       "      <td>-0.013593</td>\n",
       "      <td>-0.167524</td>\n",
       "      <td>0.004959</td>\n",
       "      <td>0.003812</td>\n",
       "      <td>...</td>\n",
       "      <td>-0.411016</td>\n",
       "      <td>0.214658</td>\n",
       "      <td>-0.382450</td>\n",
       "      <td>0.632065</td>\n",
       "      <td>-0.504500</td>\n",
       "      <td>0.670066</td>\n",
       "      <td>-0.553568</td>\n",
       "      <td>-0.373085</td>\n",
       "      <td>0.293578</td>\n",
       "      <td>-0.125011</td>\n",
       "    </tr>\n",
       "  </tbody>\n",
       "</table>\n",
       "<p>5 rows × 939 columns</p>\n",
       "</div>\n",
       "      <button class=\"colab-df-convert\" onclick=\"convertToInteractive('df-e37b01e5-477c-434b-9ae9-b41d3e019475')\"\n",
       "              title=\"Convert this dataframe to an interactive table.\"\n",
       "              style=\"display:none;\">\n",
       "        \n",
       "  <svg xmlns=\"http://www.w3.org/2000/svg\" height=\"24px\"viewBox=\"0 0 24 24\"\n",
       "       width=\"24px\">\n",
       "    <path d=\"M0 0h24v24H0V0z\" fill=\"none\"/>\n",
       "    <path d=\"M18.56 5.44l.94 2.06.94-2.06 2.06-.94-2.06-.94-.94-2.06-.94 2.06-2.06.94zm-11 1L8.5 8.5l.94-2.06 2.06-.94-2.06-.94L8.5 2.5l-.94 2.06-2.06.94zm10 10l.94 2.06.94-2.06 2.06-.94-2.06-.94-.94-2.06-.94 2.06-2.06.94z\"/><path d=\"M17.41 7.96l-1.37-1.37c-.4-.4-.92-.59-1.43-.59-.52 0-1.04.2-1.43.59L10.3 9.45l-7.72 7.72c-.78.78-.78 2.05 0 2.83L4 21.41c.39.39.9.59 1.41.59.51 0 1.02-.2 1.41-.59l7.78-7.78 2.81-2.81c.8-.78.8-2.07 0-2.86zM5.41 20L4 18.59l7.72-7.72 1.47 1.35L5.41 20z\"/>\n",
       "  </svg>\n",
       "      </button>\n",
       "      \n",
       "  <style>\n",
       "    .colab-df-container {\n",
       "      display:flex;\n",
       "      flex-wrap:wrap;\n",
       "      gap: 12px;\n",
       "    }\n",
       "\n",
       "    .colab-df-convert {\n",
       "      background-color: #E8F0FE;\n",
       "      border: none;\n",
       "      border-radius: 50%;\n",
       "      cursor: pointer;\n",
       "      display: none;\n",
       "      fill: #1967D2;\n",
       "      height: 32px;\n",
       "      padding: 0 0 0 0;\n",
       "      width: 32px;\n",
       "    }\n",
       "\n",
       "    .colab-df-convert:hover {\n",
       "      background-color: #E2EBFA;\n",
       "      box-shadow: 0px 1px 2px rgba(60, 64, 67, 0.3), 0px 1px 3px 1px rgba(60, 64, 67, 0.15);\n",
       "      fill: #174EA6;\n",
       "    }\n",
       "\n",
       "    [theme=dark] .colab-df-convert {\n",
       "      background-color: #3B4455;\n",
       "      fill: #D2E3FC;\n",
       "    }\n",
       "\n",
       "    [theme=dark] .colab-df-convert:hover {\n",
       "      background-color: #434B5C;\n",
       "      box-shadow: 0px 1px 3px 1px rgba(0, 0, 0, 0.15);\n",
       "      filter: drop-shadow(0px 1px 2px rgba(0, 0, 0, 0.3));\n",
       "      fill: #FFFFFF;\n",
       "    }\n",
       "  </style>\n",
       "\n",
       "      <script>\n",
       "        const buttonEl =\n",
       "          document.querySelector('#df-e37b01e5-477c-434b-9ae9-b41d3e019475 button.colab-df-convert');\n",
       "        buttonEl.style.display =\n",
       "          google.colab.kernel.accessAllowed ? 'block' : 'none';\n",
       "\n",
       "        async function convertToInteractive(key) {\n",
       "          const element = document.querySelector('#df-e37b01e5-477c-434b-9ae9-b41d3e019475');\n",
       "          const dataTable =\n",
       "            await google.colab.kernel.invokeFunction('convertToInteractive',\n",
       "                                                     [key], {});\n",
       "          if (!dataTable) return;\n",
       "\n",
       "          const docLinkHtml = 'Like what you see? Visit the ' +\n",
       "            '<a target=\"_blank\" href=https://colab.research.google.com/notebooks/data_table.ipynb>data table notebook</a>'\n",
       "            + ' to learn more about interactive tables.';\n",
       "          element.innerHTML = '';\n",
       "          dataTable['output_type'] = 'display_data';\n",
       "          await google.colab.output.renderOutput(dataTable, element);\n",
       "          const docLink = document.createElement('div');\n",
       "          docLink.innerHTML = docLinkHtml;\n",
       "          element.appendChild(docLink);\n",
       "        }\n",
       "      </script>\n",
       "    </div>\n",
       "  </div>\n",
       "  "
      ],
      "text/plain": [
       "         x1        y1        x2        y2        x3        y3        x4  \\\n",
       "0  0.067030  0.328205  0.000895  0.084330  0.109037  0.177909  0.093921   \n",
       "1  0.009322  0.595813  0.015251  0.118809 -0.005072  0.359897 -0.124509   \n",
       "2  0.123301  0.333559  0.013915  0.078694  0.166921  0.180381  0.103639   \n",
       "3 -0.076576  0.345102  0.002309  0.086475 -0.073506  0.175926 -0.114812   \n",
       "4  0.123781  0.232474  0.021969  0.060497  0.104812  0.085345 -0.013593   \n",
       "\n",
       "         y4        x5        y5  ...      y465      x466      y466      x467  \\\n",
       "0 -0.149767  0.005139  0.008122  ... -0.260575  0.411546 -0.252619  0.844953   \n",
       "1 -0.136488  0.012932  0.002051  ... -0.169538  0.129904 -0.184685  0.684021   \n",
       "2 -0.144438  0.007269  0.003677  ... -0.286893  0.417817 -0.275312  0.820107   \n",
       "3 -0.158177  0.008806  0.005363  ... -0.293584 -0.033024 -0.286440  0.294092   \n",
       "4 -0.167524  0.004959  0.003812  ... -0.411016  0.214658 -0.382450  0.632065   \n",
       "\n",
       "       y467      x468      y468     pitch       yaw      roll  \n",
       "0 -0.231329  0.897006 -0.255406  0.107997  0.837121  0.249012  \n",
       "1 -0.134949  0.750501 -0.193360  0.404001 -0.131908 -0.084306  \n",
       "2 -0.311576  0.875300 -0.340237  0.106887  0.921113  0.128691  \n",
       "3 -0.308274  0.332659 -0.342919 -0.067951 -0.425775  0.023097  \n",
       "4 -0.504500  0.670066 -0.553568 -0.373085  0.293578 -0.125011  \n",
       "\n",
       "[5 rows x 939 columns]"
      ]
     },
     "execution_count": 3,
     "metadata": {},
     "output_type": "execute_result"
    }
   ],
   "source": [
    "data = pd.read_csv('/content/drive/MyDrive/head_pose_dataset.csv')\n",
    "data.head()"
   ]
  },
  {
   "cell_type": "code",
   "execution_count": 4,
   "metadata": {
    "id": "lEfLBvdBLumW"
   },
   "outputs": [],
   "source": [
    "#create features and labels\n",
    "features = data.iloc[:,:936]\n",
    "labels = data.iloc[:,936:]\n",
    "pitch_label = labels.iloc[:,0]\n",
    "yaw_label = labels.iloc[:,1]\n",
    "roll_label = labels.iloc[:,2]"
   ]
  },
  {
   "cell_type": "code",
   "execution_count": 5,
   "metadata": {
    "id": "1BToKK5wLgMI"
   },
   "outputs": [],
   "source": [
    "X_train, X_test, y_train_pitch, y_test_pitch = train_test_split(features, pitch_label, test_size=0.2, shuffle = True, random_state=42)\n",
    "X_train, X_test, y_train_yaw, y_test_yaw = train_test_split(features, yaw_label, test_size=0.2, shuffle = True, random_state=42)\n",
    "X_train, X_test, y_train_roll, y_test_roll = train_test_split(features, roll_label, test_size=0.2, shuffle = True, random_state=42)"
   ]
  },
  {
   "cell_type": "code",
   "execution_count": 6,
   "metadata": {
    "colab": {
     "base_uri": "https://localhost:8080/",
     "height": 299
    },
    "id": "goO7m5Q7MCF_",
    "outputId": "7513d7c4-f13a-4476-d949-47db553a3b5b"
   },
   "outputs": [
    {
     "data": {
      "text/html": [
       "\n",
       "  <div id=\"df-effd218f-763b-4777-9dbe-8673362dea80\">\n",
       "    <div class=\"colab-df-container\">\n",
       "      <div>\n",
       "<style scoped>\n",
       "    .dataframe tbody tr th:only-of-type {\n",
       "        vertical-align: middle;\n",
       "    }\n",
       "\n",
       "    .dataframe tbody tr th {\n",
       "        vertical-align: top;\n",
       "    }\n",
       "\n",
       "    .dataframe thead th {\n",
       "        text-align: right;\n",
       "    }\n",
       "</style>\n",
       "<table border=\"1\" class=\"dataframe\">\n",
       "  <thead>\n",
       "    <tr style=\"text-align: right;\">\n",
       "      <th></th>\n",
       "      <th>x1</th>\n",
       "      <th>y1</th>\n",
       "      <th>x2</th>\n",
       "      <th>y2</th>\n",
       "      <th>x3</th>\n",
       "      <th>y3</th>\n",
       "      <th>x4</th>\n",
       "      <th>y4</th>\n",
       "      <th>x5</th>\n",
       "      <th>y5</th>\n",
       "      <th>...</th>\n",
       "      <th>x464</th>\n",
       "      <th>y464</th>\n",
       "      <th>x465</th>\n",
       "      <th>y465</th>\n",
       "      <th>x466</th>\n",
       "      <th>y466</th>\n",
       "      <th>x467</th>\n",
       "      <th>y467</th>\n",
       "      <th>x468</th>\n",
       "      <th>y468</th>\n",
       "    </tr>\n",
       "  </thead>\n",
       "  <tbody>\n",
       "    <tr>\n",
       "      <th>0</th>\n",
       "      <td>0.067030</td>\n",
       "      <td>0.328205</td>\n",
       "      <td>0.000895</td>\n",
       "      <td>0.084330</td>\n",
       "      <td>0.109037</td>\n",
       "      <td>0.177909</td>\n",
       "      <td>0.093921</td>\n",
       "      <td>-0.149767</td>\n",
       "      <td>0.005139</td>\n",
       "      <td>0.008122</td>\n",
       "      <td>...</td>\n",
       "      <td>0.518581</td>\n",
       "      <td>-0.272850</td>\n",
       "      <td>0.462333</td>\n",
       "      <td>-0.260575</td>\n",
       "      <td>0.411546</td>\n",
       "      <td>-0.252619</td>\n",
       "      <td>0.844953</td>\n",
       "      <td>-0.231329</td>\n",
       "      <td>0.897006</td>\n",
       "      <td>-0.255406</td>\n",
       "    </tr>\n",
       "    <tr>\n",
       "      <th>1</th>\n",
       "      <td>0.009322</td>\n",
       "      <td>0.595813</td>\n",
       "      <td>0.015251</td>\n",
       "      <td>0.118809</td>\n",
       "      <td>-0.005072</td>\n",
       "      <td>0.359897</td>\n",
       "      <td>-0.124509</td>\n",
       "      <td>-0.136488</td>\n",
       "      <td>0.012932</td>\n",
       "      <td>0.002051</td>\n",
       "      <td>...</td>\n",
       "      <td>0.215131</td>\n",
       "      <td>-0.175605</td>\n",
       "      <td>0.156900</td>\n",
       "      <td>-0.169538</td>\n",
       "      <td>0.129904</td>\n",
       "      <td>-0.184685</td>\n",
       "      <td>0.684021</td>\n",
       "      <td>-0.134949</td>\n",
       "      <td>0.750501</td>\n",
       "      <td>-0.193360</td>\n",
       "    </tr>\n",
       "    <tr>\n",
       "      <th>2</th>\n",
       "      <td>0.123301</td>\n",
       "      <td>0.333559</td>\n",
       "      <td>0.013915</td>\n",
       "      <td>0.078694</td>\n",
       "      <td>0.166921</td>\n",
       "      <td>0.180381</td>\n",
       "      <td>0.103639</td>\n",
       "      <td>-0.144438</td>\n",
       "      <td>0.007269</td>\n",
       "      <td>0.003677</td>\n",
       "      <td>...</td>\n",
       "      <td>0.522467</td>\n",
       "      <td>-0.303719</td>\n",
       "      <td>0.470179</td>\n",
       "      <td>-0.286893</td>\n",
       "      <td>0.417817</td>\n",
       "      <td>-0.275312</td>\n",
       "      <td>0.820107</td>\n",
       "      <td>-0.311576</td>\n",
       "      <td>0.875300</td>\n",
       "      <td>-0.340237</td>\n",
       "    </tr>\n",
       "    <tr>\n",
       "      <th>3</th>\n",
       "      <td>-0.076576</td>\n",
       "      <td>0.345102</td>\n",
       "      <td>0.002309</td>\n",
       "      <td>0.086475</td>\n",
       "      <td>-0.073506</td>\n",
       "      <td>0.175926</td>\n",
       "      <td>-0.114812</td>\n",
       "      <td>-0.158177</td>\n",
       "      <td>0.008806</td>\n",
       "      <td>0.005363</td>\n",
       "      <td>...</td>\n",
       "      <td>-0.007835</td>\n",
       "      <td>-0.306598</td>\n",
       "      <td>-0.031811</td>\n",
       "      <td>-0.293584</td>\n",
       "      <td>-0.033024</td>\n",
       "      <td>-0.286440</td>\n",
       "      <td>0.294092</td>\n",
       "      <td>-0.308274</td>\n",
       "      <td>0.332659</td>\n",
       "      <td>-0.342919</td>\n",
       "    </tr>\n",
       "    <tr>\n",
       "      <th>4</th>\n",
       "      <td>0.123781</td>\n",
       "      <td>0.232474</td>\n",
       "      <td>0.021969</td>\n",
       "      <td>0.060497</td>\n",
       "      <td>0.104812</td>\n",
       "      <td>0.085345</td>\n",
       "      <td>-0.013593</td>\n",
       "      <td>-0.167524</td>\n",
       "      <td>0.004959</td>\n",
       "      <td>0.003812</td>\n",
       "      <td>...</td>\n",
       "      <td>0.291112</td>\n",
       "      <td>-0.442346</td>\n",
       "      <td>0.248447</td>\n",
       "      <td>-0.411016</td>\n",
       "      <td>0.214658</td>\n",
       "      <td>-0.382450</td>\n",
       "      <td>0.632065</td>\n",
       "      <td>-0.504500</td>\n",
       "      <td>0.670066</td>\n",
       "      <td>-0.553568</td>\n",
       "    </tr>\n",
       "  </tbody>\n",
       "</table>\n",
       "<p>5 rows × 936 columns</p>\n",
       "</div>\n",
       "      <button class=\"colab-df-convert\" onclick=\"convertToInteractive('df-effd218f-763b-4777-9dbe-8673362dea80')\"\n",
       "              title=\"Convert this dataframe to an interactive table.\"\n",
       "              style=\"display:none;\">\n",
       "        \n",
       "  <svg xmlns=\"http://www.w3.org/2000/svg\" height=\"24px\"viewBox=\"0 0 24 24\"\n",
       "       width=\"24px\">\n",
       "    <path d=\"M0 0h24v24H0V0z\" fill=\"none\"/>\n",
       "    <path d=\"M18.56 5.44l.94 2.06.94-2.06 2.06-.94-2.06-.94-.94-2.06-.94 2.06-2.06.94zm-11 1L8.5 8.5l.94-2.06 2.06-.94-2.06-.94L8.5 2.5l-.94 2.06-2.06.94zm10 10l.94 2.06.94-2.06 2.06-.94-2.06-.94-.94-2.06-.94 2.06-2.06.94z\"/><path d=\"M17.41 7.96l-1.37-1.37c-.4-.4-.92-.59-1.43-.59-.52 0-1.04.2-1.43.59L10.3 9.45l-7.72 7.72c-.78.78-.78 2.05 0 2.83L4 21.41c.39.39.9.59 1.41.59.51 0 1.02-.2 1.41-.59l7.78-7.78 2.81-2.81c.8-.78.8-2.07 0-2.86zM5.41 20L4 18.59l7.72-7.72 1.47 1.35L5.41 20z\"/>\n",
       "  </svg>\n",
       "      </button>\n",
       "      \n",
       "  <style>\n",
       "    .colab-df-container {\n",
       "      display:flex;\n",
       "      flex-wrap:wrap;\n",
       "      gap: 12px;\n",
       "    }\n",
       "\n",
       "    .colab-df-convert {\n",
       "      background-color: #E8F0FE;\n",
       "      border: none;\n",
       "      border-radius: 50%;\n",
       "      cursor: pointer;\n",
       "      display: none;\n",
       "      fill: #1967D2;\n",
       "      height: 32px;\n",
       "      padding: 0 0 0 0;\n",
       "      width: 32px;\n",
       "    }\n",
       "\n",
       "    .colab-df-convert:hover {\n",
       "      background-color: #E2EBFA;\n",
       "      box-shadow: 0px 1px 2px rgba(60, 64, 67, 0.3), 0px 1px 3px 1px rgba(60, 64, 67, 0.15);\n",
       "      fill: #174EA6;\n",
       "    }\n",
       "\n",
       "    [theme=dark] .colab-df-convert {\n",
       "      background-color: #3B4455;\n",
       "      fill: #D2E3FC;\n",
       "    }\n",
       "\n",
       "    [theme=dark] .colab-df-convert:hover {\n",
       "      background-color: #434B5C;\n",
       "      box-shadow: 0px 1px 3px 1px rgba(0, 0, 0, 0.15);\n",
       "      filter: drop-shadow(0px 1px 2px rgba(0, 0, 0, 0.3));\n",
       "      fill: #FFFFFF;\n",
       "    }\n",
       "  </style>\n",
       "\n",
       "      <script>\n",
       "        const buttonEl =\n",
       "          document.querySelector('#df-effd218f-763b-4777-9dbe-8673362dea80 button.colab-df-convert');\n",
       "        buttonEl.style.display =\n",
       "          google.colab.kernel.accessAllowed ? 'block' : 'none';\n",
       "\n",
       "        async function convertToInteractive(key) {\n",
       "          const element = document.querySelector('#df-effd218f-763b-4777-9dbe-8673362dea80');\n",
       "          const dataTable =\n",
       "            await google.colab.kernel.invokeFunction('convertToInteractive',\n",
       "                                                     [key], {});\n",
       "          if (!dataTable) return;\n",
       "\n",
       "          const docLinkHtml = 'Like what you see? Visit the ' +\n",
       "            '<a target=\"_blank\" href=https://colab.research.google.com/notebooks/data_table.ipynb>data table notebook</a>'\n",
       "            + ' to learn more about interactive tables.';\n",
       "          element.innerHTML = '';\n",
       "          dataTable['output_type'] = 'display_data';\n",
       "          await google.colab.output.renderOutput(dataTable, element);\n",
       "          const docLink = document.createElement('div');\n",
       "          docLink.innerHTML = docLinkHtml;\n",
       "          element.appendChild(docLink);\n",
       "        }\n",
       "      </script>\n",
       "    </div>\n",
       "  </div>\n",
       "  "
      ],
      "text/plain": [
       "         x1        y1        x2        y2        x3        y3        x4  \\\n",
       "0  0.067030  0.328205  0.000895  0.084330  0.109037  0.177909  0.093921   \n",
       "1  0.009322  0.595813  0.015251  0.118809 -0.005072  0.359897 -0.124509   \n",
       "2  0.123301  0.333559  0.013915  0.078694  0.166921  0.180381  0.103639   \n",
       "3 -0.076576  0.345102  0.002309  0.086475 -0.073506  0.175926 -0.114812   \n",
       "4  0.123781  0.232474  0.021969  0.060497  0.104812  0.085345 -0.013593   \n",
       "\n",
       "         y4        x5        y5  ...      x464      y464      x465      y465  \\\n",
       "0 -0.149767  0.005139  0.008122  ...  0.518581 -0.272850  0.462333 -0.260575   \n",
       "1 -0.136488  0.012932  0.002051  ...  0.215131 -0.175605  0.156900 -0.169538   \n",
       "2 -0.144438  0.007269  0.003677  ...  0.522467 -0.303719  0.470179 -0.286893   \n",
       "3 -0.158177  0.008806  0.005363  ... -0.007835 -0.306598 -0.031811 -0.293584   \n",
       "4 -0.167524  0.004959  0.003812  ...  0.291112 -0.442346  0.248447 -0.411016   \n",
       "\n",
       "       x466      y466      x467      y467      x468      y468  \n",
       "0  0.411546 -0.252619  0.844953 -0.231329  0.897006 -0.255406  \n",
       "1  0.129904 -0.184685  0.684021 -0.134949  0.750501 -0.193360  \n",
       "2  0.417817 -0.275312  0.820107 -0.311576  0.875300 -0.340237  \n",
       "3 -0.033024 -0.286440  0.294092 -0.308274  0.332659 -0.342919  \n",
       "4  0.214658 -0.382450  0.632065 -0.504500  0.670066 -0.553568  \n",
       "\n",
       "[5 rows x 936 columns]"
      ]
     },
     "execution_count": 6,
     "metadata": {},
     "output_type": "execute_result"
    }
   ],
   "source": [
    "features.head()"
   ]
  },
  {
   "cell_type": "markdown",
   "metadata": {},
   "source": [
    "### Machine Learning Models (Creation, Training, Saving)"
   ]
  },
  {
   "cell_type": "code",
   "execution_count": 7,
   "metadata": {
    "id": "vKFADmbzMELu"
   },
   "outputs": [],
   "source": [
    "# from sklearn.svm import SVR\n",
    "# from sklearn.ensemble import RandomForestRegressor\n",
    "# from sklearn.ensemble import GradientBoostingRegressor\n",
    "# from xgboost import XGBRegressor\n",
    "pipelines_p = {\n",
    "    'svr': make_pipeline(StandardScaler(), PCA(n_components=0.99), SVR(kernel='rbf')),\n",
    "    'rf': make_pipeline(StandardScaler(), PCA(n_components=0.99), RandomForestRegressor(n_estimators = 150)),\n",
    "    'gb': make_pipeline(StandardScaler(), PCA(n_components=0.99), GradientBoostingRegressor(n_estimators = 150, learning_rate=0.4)),\n",
    "    'XGB': make_pipeline(StandardScaler(), PCA(n_components=0.99), XGBRegressor(n_estimators = 150, learning_rate=0.3))\n",
    "}\n",
    "\n",
    "pipelines_y = {\n",
    "    'svr': make_pipeline(StandardScaler(), PCA(n_components=0.99), SVR(kernel='rbf')),\n",
    "    'rf': make_pipeline(StandardScaler(), PCA(n_components=0.99), RandomForestRegressor(n_estimators = 150)),\n",
    "    'gb': make_pipeline(StandardScaler(), PCA(n_components=0.99), GradientBoostingRegressor(n_estimators = 150, learning_rate=0.4)),\n",
    "    'XGB': make_pipeline(StandardScaler(), PCA(n_components=0.99), XGBRegressor(n_estimators = 150, learning_rate=0.3))\n",
    "}\n",
    "\n",
    "pipelines_r = {\n",
    "    'svr': make_pipeline(StandardScaler(), PCA(n_components=0.99), SVR(kernel='rbf')),\n",
    "    'rf': make_pipeline(StandardScaler(), PCA(n_components=0.99), RandomForestRegressor(n_estimators = 150)),\n",
    "    'gb': make_pipeline(StandardScaler(), PCA(n_components=0.99), GradientBoostingRegressor(n_estimators = 150, learning_rate=0.4)),\n",
    "    'XGB': make_pipeline(StandardScaler(), PCA(n_components=0.99), XGBRegressor(n_estimators = 150, learning_rate=0.3))\n",
    "}"
   ]
  },
  {
   "cell_type": "code",
   "execution_count": 8,
   "metadata": {
    "id": "4RuMtKGdM2yj"
   },
   "outputs": [],
   "source": [
    "models_pitch = {}\n",
    "models_yaw = {}\n",
    "models_roll = {}"
   ]
  },
  {
   "cell_type": "code",
   "execution_count": 9,
   "metadata": {
    "colab": {
     "base_uri": "https://localhost:8080/"
    },
    "id": "sRVdufODM6FK",
    "outputId": "0caf2b92-999b-4595-ae8c-3bbb292b22f3"
   },
   "outputs": [
    {
     "name": "stdout",
     "output_type": "stream",
     "text": [
      "[23:26:37] WARNING: /workspace/src/objective/regression_obj.cu:152: reg:linear is now deprecated in favor of reg:squarederror.\n"
     ]
    }
   ],
   "source": [
    "for algo, pipeline in pipelines_p.items():\n",
    "  model = pipeline.fit(X_train, y_train_pitch)\n",
    "  models_pitch[algo] = model"
   ]
  },
  {
   "cell_type": "code",
   "execution_count": 10,
   "metadata": {
    "colab": {
     "base_uri": "https://localhost:8080/"
    },
    "id": "kAoz6t4eM91M",
    "outputId": "4b939cc9-f5b4-4f72-ba37-44a4cfe712e9"
   },
   "outputs": [
    {
     "name": "stdout",
     "output_type": "stream",
     "text": [
      "[23:26:45] WARNING: /workspace/src/objective/regression_obj.cu:152: reg:linear is now deprecated in favor of reg:squarederror.\n"
     ]
    }
   ],
   "source": [
    "for algo, pipeline in pipelines_y.items():\n",
    "  model = pipeline.fit(X_train, y_train_yaw)\n",
    "  models_yaw[algo] = model"
   ]
  },
  {
   "cell_type": "code",
   "execution_count": 11,
   "metadata": {
    "colab": {
     "base_uri": "https://localhost:8080/"
    },
    "id": "W6WwZoEvM-el",
    "outputId": "64a1597e-4507-477d-de05-1a12058247c4"
   },
   "outputs": [
    {
     "name": "stdout",
     "output_type": "stream",
     "text": [
      "[23:26:53] WARNING: /workspace/src/objective/regression_obj.cu:152: reg:linear is now deprecated in favor of reg:squarederror.\n"
     ]
    }
   ],
   "source": [
    "for algo, pipeline in pipelines_r.items():\n",
    "  model = pipeline.fit(X_train, y_train_roll)\n",
    "  models_roll[algo] = model"
   ]
  },
  {
   "cell_type": "code",
   "execution_count": 16,
   "metadata": {
    "colab": {
     "base_uri": "https://localhost:8080/"
    },
    "id": "jH073yEONFbc",
    "outputId": "dc816c0a-30f1-490e-85a2-831fe216bbbc"
   },
   "outputs": [
    {
     "name": "stdout",
     "output_type": "stream",
     "text": [
      "model: svr\n",
      "MSE (train):0.17556488474012272\n",
      "MSE (test):0.5120503538188519\n",
      "R2 score (train):0.2781942372645362\n",
      "R2 score (test):0.04067412539606485\n",
      "\n",
      "model: rf\n",
      "MSE (train):0.030675366458385714\n",
      "MSE (test):1.022428551739091\n",
      "R2 score (train):0.8738833433778069\n",
      "R2 score (test):-0.9155189666446959\n",
      "\n",
      "model: gb\n",
      "MSE (train):0.00212038653401262\n",
      "MSE (test):1.4980751096891851\n",
      "R2 score (train):0.9912823841638805\n",
      "R2 score (test):-1.8066423626247148\n",
      "\n",
      "model: XGB\n",
      "MSE (train):0.0040439556136593\n",
      "MSE (test):3.0951554984884693\n",
      "R2 score (train):0.9833739504884109\n",
      "R2 score (test):-4.798771026087535\n",
      "\n"
     ]
    }
   ],
   "source": [
    "for algo, model in models_pitch.items():\n",
    "  yhat_train = model.predict(X_train)\n",
    "  yhat = model.predict(X_test)\n",
    "  print(f'model: {algo}\\nMSE (train):{mean_squared_error(y_train_pitch,yhat_train)}\\nMSE (test):{mean_squared_error(y_test_pitch, yhat)}\\nR2 score (train):{r2_score(y_train_pitch, yhat_train)}\\nR2 score (test):{r2_score(y_test_pitch, yhat)}\\n')"
   ]
  },
  {
   "cell_type": "code",
   "execution_count": 14,
   "metadata": {
    "colab": {
     "base_uri": "https://localhost:8080/"
    },
    "id": "WcBtNZ3oOu19",
    "outputId": "ba32aa4b-6b45-4839-f7db-ea1b5d23dde5"
   },
   "outputs": [
    {
     "name": "stdout",
     "output_type": "stream",
     "text": [
      "model: svr\n",
      "MSE (train):0.024610995610624097\n",
      "MSE (test):0.10708085682545244\n",
      "R2 score (train):0.9221230732550014\n",
      "R2 score (test):0.7439333842430695\n",
      "\n",
      "model: rf\n",
      "MSE (train):0.0047993145434176935\n",
      "MSE (test):0.13886967184562748\n",
      "R2 score (train):0.9848134600876284\n",
      "R2 score (test):0.6679155550767599\n",
      "\n",
      "model: gb\n",
      "MSE (train):0.001489440558541072\n",
      "MSE (test):0.14385360425620677\n",
      "R2 score (train):0.9952869418570591\n",
      "R2 score (test):0.6559972837500874\n",
      "\n",
      "model: XGB\n",
      "MSE (train):0.0032290397522905063\n",
      "MSE (test):0.13413160155814782\n",
      "R2 score (train):0.9897823031532595\n",
      "R2 score (test):0.6792458867504322\n",
      "\n"
     ]
    }
   ],
   "source": [
    "for algo, model in models_yaw.items():\n",
    "  yhat_train = model.predict(X_train)\n",
    "  yhat = model.predict(X_test)\n",
    "  print(f'model: {algo}\\nMSE (train):{mean_squared_error(y_train_yaw,yhat_train)}\\nMSE (test):{mean_squared_error(y_test_yaw, yhat)}\\nR2 score (train):{r2_score(y_train_yaw, yhat_train)}\\nR2 score (test):{r2_score(y_test_yaw, yhat)}\\n')"
   ]
  },
  {
   "cell_type": "code",
   "execution_count": 15,
   "metadata": {
    "colab": {
     "base_uri": "https://localhost:8080/"
    },
    "id": "PN2plNbcPGRb",
    "outputId": "d0ddb7c5-ca8b-49db-de5c-44c96d7dbc61"
   },
   "outputs": [
    {
     "name": "stdout",
     "output_type": "stream",
     "text": [
      "model: svr\n",
      "MSE (train):0.175186348569316\n",
      "MSE (test):0.710533628675681\n",
      "R2 score (train):0.4070350299012392\n",
      "R2 score (test):0.22935545573777472\n",
      "\n",
      "model: rf\n",
      "MSE (train):0.02920023138820283\n",
      "MSE (test):0.5382748758557305\n",
      "R2 score (train):0.9011640206363929\n",
      "R2 score (test):0.41618724343167324\n",
      "\n",
      "model: gb\n",
      "MSE (train):0.0007232544488112253\n",
      "MSE (test):0.33679074116899615\n",
      "R2 score (train):0.9975519522147956\n",
      "R2 score (test):0.6347168708627212\n",
      "\n",
      "model: XGB\n",
      "MSE (train):0.0020963931400651576\n",
      "MSE (test):0.8998998710796312\n",
      "R2 score (train):0.9929041976971046\n",
      "R2 score (test):0.023968890364310935\n",
      "\n"
     ]
    }
   ],
   "source": [
    "for algo, model in models_roll.items():\n",
    "  yhat_train = model.predict(X_train)\n",
    "  yhat = model.predict(X_test)\n",
    "  print(f'model: {algo}\\nMSE (train):{mean_squared_error(y_train_roll,yhat_train)}\\nMSE (test):{mean_squared_error(y_test_roll, yhat)}\\nR2 score (train):{r2_score(y_train_roll, yhat_train)}\\nR2 score (test):{r2_score(y_test_roll, yhat)}\\n')"
   ]
  },
  {
   "cell_type": "code",
   "execution_count": 17,
   "metadata": {
    "id": "SRMH4XqZmFMa"
   },
   "outputs": [],
   "source": [
    "#save chosen models\n",
    "with open('final_pitch_mdl.pkl', 'wb') as f:\n",
    "  pickle.dump(models_pitch['rf'], f)\n",
    "\n",
    "with open('final_yaw_mdl.pkl', 'wb') as f:\n",
    "  pickle.dump(models_yaw['svr'], f)\n",
    "\n",
    "with open('final_roll_mdl.pkl', 'wb') as f:\n",
    "  pickle.dump(models_roll['gb'], f)"
   ]
  },
  {
   "cell_type": "code",
   "execution_count": 18,
   "metadata": {
    "id": "ReLNz7BjSvgO"
   },
   "outputs": [],
   "source": [
    "#try some models\n",
    "pipeline_pitch = make_pipeline(StandardScaler(), PCA(n_components=0.99), RandomForestRegressor())\n",
    "pipeline_yaw = make_pipeline(StandardScaler(), PCA(n_components=0.99), RandomForestRegressor())\n",
    "pipeline_roll = make_pipeline(StandardScaler(), PCA(n_components=0.99), RandomForestRegressor())"
   ]
  },
  {
   "cell_type": "code",
   "execution_count": 19,
   "metadata": {
    "id": "BqMxWvtwSzYj"
   },
   "outputs": [],
   "source": [
    "#Training\n",
    "model_pitch = pipeline_pitch.fit(X_train, y_train_pitch)\n",
    "model_yaw = pipeline_yaw.fit(X_train, y_train_yaw)\n",
    "model_roll = pipeline_roll.fit(X_train, y_train_roll)"
   ]
  },
  {
   "cell_type": "code",
   "execution_count": 20,
   "metadata": {
    "colab": {
     "base_uri": "https://localhost:8080/"
    },
    "id": "KzEJTRCOUXyN",
    "outputId": "56b606e9-3921-43ad-9aa3-0ee12043c108"
   },
   "outputs": [
    {
     "name": "stdout",
     "output_type": "stream",
     "text": [
      "PITCH SCORES:\n",
      "MSE (train):0.035725050414052606\n",
      "MSE (train):0.918166600942344\n",
      "R2 score (train):0.8531224094097843\n",
      "R2 score (test):-0.720184296157609\n",
      "==============================================================================\n",
      "YAW SCORES:\n",
      "MSE (train):0.0050094948231943935\n",
      "MSE (train):0.1406441031450716\n",
      "R2 score (train):0.9841483836108219\n",
      "R2 score (test):0.6636722885283565\n",
      "==============================================================================\n",
      "ROLL SCORES:\n",
      "MSE (train):0.031068009804560842\n",
      "MSE (train):0.5381458285671858\n",
      "R2 score (train):0.8948420259042028\n",
      "R2 score (test):0.41632720807916523\n",
      "==============================================================================\n"
     ]
    }
   ],
   "source": [
    "print('PITCH SCORES:')\n",
    "print(f'MSE (train):{mean_squared_error(y_train_pitch,model_pitch.predict(X_train))}')\n",
    "print(f'MSE (train):{mean_squared_error(y_test_pitch,model_pitch.predict(X_test))}')\n",
    "print(f'R2 score (train):{r2_score(y_train_pitch, model_pitch.predict(X_train))}')\n",
    "print(f'R2 score (test):{r2_score(y_test_pitch, model_pitch.predict(X_test))}')\n",
    "print('==============================================================================')\n",
    "print('YAW SCORES:')\n",
    "print(f'MSE (train):{mean_squared_error(y_train_yaw,model_yaw.predict(X_train))}')\n",
    "print(f'MSE (train):{mean_squared_error(y_test_yaw,model_yaw.predict(X_test))}')\n",
    "print(f'R2 score (train):{r2_score(y_train_yaw, model_yaw.predict(X_train))}')\n",
    "print(f'R2 score (test):{r2_score(y_test_yaw, model_yaw.predict(X_test))}')\n",
    "print('==============================================================================')\n",
    "print('ROLL SCORES:')\n",
    "print(f'MSE (train):{mean_squared_error(y_train_roll,model_roll.predict(X_train))}')\n",
    "print(f'MSE (train):{mean_squared_error(y_test_roll,model_roll.predict(X_test))}')\n",
    "print(f'R2 score (train):{r2_score(y_train_roll, model_roll.predict(X_train))}')\n",
    "print(f'R2 score (test):{r2_score(y_test_roll, model_roll.predict(X_test))}')\n",
    "print('==============================================================================')"
   ]
  },
  {
   "cell_type": "code",
   "execution_count": 21,
   "metadata": {
    "id": "lfwprQ9Nh1-D"
   },
   "outputs": [],
   "source": [
    "#save chosen models\n",
    "with open('rf_pitch_mdl.pkl', 'wb') as f:\n",
    "  pickle.dump(model_pitch, f)\n",
    "\n",
    "with open('rf_yaw_mdl.pkl', 'wb') as f:\n",
    "  pickle.dump(model_yaw, f)\n",
    "\n",
    "with open('rf_roll_mdl.pkl', 'wb') as f:\n",
    "  pickle.dump(model_roll, f)"
   ]
  },
  {
   "cell_type": "code",
   "execution_count": null,
   "metadata": {
    "id": "0A7uO562Yljl"
   },
   "outputs": [],
   "source": []
  }
 ],
 "metadata": {
  "accelerator": "GPU",
  "colab": {
   "provenance": []
  },
  "gpuClass": "standard",
  "kernelspec": {
   "display_name": "Python 3",
   "language": "python",
   "name": "python3"
  },
  "language_info": {
   "codemirror_mode": {
    "name": "ipython",
    "version": 3
   },
   "file_extension": ".py",
   "mimetype": "text/x-python",
   "name": "python",
   "nbconvert_exporter": "python",
   "pygments_lexer": "ipython3",
   "version": "3.7.6"
  }
 },
 "nbformat": 4,
 "nbformat_minor": 1
}
